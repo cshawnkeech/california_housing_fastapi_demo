{
 "cells": [
  {
   "cell_type": "markdown",
   "metadata": {},
   "source": [
    "# Preserving the model\n"
   ]
  },
  {
   "cell_type": "code",
   "execution_count": null,
   "metadata": {},
   "outputs": [],
   "source": [
    "import sys\n",
    "\n",
    "# adds everything in the directory above to the path\n",
    "sys.path.insert(0, '../')"
   ]
  },
  {
   "cell_type": "code",
   "execution_count": null,
   "metadata": {},
   "outputs": [],
   "source": [
    "# autoreload all libraries/modules\n",
    "%load_ext autoreload\n",
    "%autoreload 2"
   ]
  },
  {
   "cell_type": "code",
   "execution_count": null,
   "metadata": {},
   "outputs": [],
   "source": [
    "from sklearn.datasets import fetch_california_housing\n",
    "from sklearn.linear_model import LinearRegression\n",
    "\n",
    "from sklearn.metrics import mean_squared_error\n",
    "\n",
    "from sklearn.model_selection import train_test_split\n",
    "from sklearn.model_selection import cross_val_score\n",
    "\n",
    "import numpy as np"
   ]
  },
  {
   "cell_type": "code",
   "execution_count": null,
   "metadata": {},
   "outputs": [],
   "source": [
    "from sklearn.metrics import get_scorer_names"
   ]
  },
  {
   "cell_type": "markdown",
   "metadata": {},
   "source": [
    "## Recap: California Housing Data\n",
    "\n",
    "This is the model you created in the Cross Validation assignment. This section will serve as a brief recap."
   ]
  },
  {
   "cell_type": "markdown",
   "metadata": {},
   "source": [
    "### Import Data & Separate Features & Targets"
   ]
  },
  {
   "cell_type": "markdown",
   "metadata": {},
   "source": [
    "What is the target for the California housing data?\n",
    "\n",
    "* [The California housing dataset — Scikit-learn course](https://inria.github.io/scikit-learn-mooc/python_scripts/datasets_california_housing.html) \n",
    "\n",
    "\n",
    "\n",
    "\n",
    "</br>\n",
    "<details>\n",
    "<summary>Solution</summary>\n",
    "\n",
    "The target contains the median of the house value for each district.\n",
    "\n",
    "The target variable is the median house value for California districts,\n",
    "expressed in hundreds of thousands of dollars ($100,000).\n",
    "\n",
    "```python\n",
    "print(california.DESCR)\n",
    "```\n",
    "</details>\n",
    "</br>\n",
    "\n"
   ]
  },
  {
   "cell_type": "code",
   "execution_count": null,
   "metadata": {},
   "outputs": [],
   "source": [
    "# Fetch dataset from sklearn's internal datasets\n",
    "california = fetch_california_housing(as_frame=True)\n",
    "\n",
    "# # Features for dataset\n",
    "X = california['data']\n",
    "# print(X)\n",
    "\n",
    "# # Target for dataset\n",
    "y = california['target']\n",
    "# print(y)"
   ]
  },
  {
   "cell_type": "markdown",
   "metadata": {},
   "source": [
    "### Train Test Split"
   ]
  },
  {
   "cell_type": "code",
   "execution_count": null,
   "metadata": {},
   "outputs": [],
   "source": [
    "X_train, X_test, y_train, y_test = train_test_split(\n",
    "    X,\n",
    "    y,\n",
    "    test_size=0.25)"
   ]
  },
  {
   "cell_type": "markdown",
   "metadata": {},
   "source": [
    "### Fit model"
   ]
  },
  {
   "cell_type": "code",
   "execution_count": null,
   "metadata": {},
   "outputs": [],
   "source": [
    "# # Fit your model using the training set\n",
    "reg = LinearRegression()\n",
    "reg.fit(X_train, y_train)"
   ]
  },
  {
   "cell_type": "markdown",
   "metadata": {},
   "source": [
    "### Get Predictions"
   ]
  },
  {
   "cell_type": "code",
   "execution_count": null,
   "metadata": {},
   "outputs": [],
   "source": [
    "# # Call predict to get the predicted values for training and test set\n",
    "train_predicted = reg.predict(X_train)\n",
    "test_predicted = reg.predict(X_test)"
   ]
  },
  {
   "cell_type": "markdown",
   "metadata": {},
   "source": [
    "## Scoring Predictions"
   ]
  },
  {
   "cell_type": "markdown",
   "metadata": {},
   "source": [
    "### What is the default scoring for this model?"
   ]
  },
  {
   "cell_type": "markdown",
   "metadata": {},
   "source": [
    "\n",
    "Default scoring:\n",
    "\n",
    "* [LinearRegression — scikit-learn 1.5.1\n",
    "  documentation](https://scikit-learn.org/stable/modules/generated/sklearn.linear_model.LinearRegression.html)\n",
    "\n",
    "</br>\n",
    "<details>\n",
    "<summary>Solution</summary>\n",
    "\n",
    "The default score for the Linear Regression model is R^2\n",
    "\n",
    "</details>\n",
    "</br>\n",
    "\n"
   ]
  },
  {
   "cell_type": "code",
   "execution_count": null,
   "metadata": {},
   "outputs": [],
   "source": [
    "# Default scoring\n",
    "print(\n",
    "    f\"Training: score {reg.score(X_train, y_train)}\",\n",
    "    f\"Testing : score {reg.score(X_test, y_test)}\",\n",
    "    sep=\"\\n\")"
   ]
  },
  {
   "cell_type": "markdown",
   "metadata": {},
   "source": [
    "### Calculate RMSE"
   ]
  },
  {
   "cell_type": "markdown",
   "metadata": {},
   "source": [
    "* [root_mean_squared_error — scikit-learn 1.5.1\n",
    "  documentation](https://scikit-learn.org/stable/modules/generated/sklearn.metrics.root_mean_squared_error.html)\n",
    "\n",
    "This comes out in 1.4, and the version in my anaconda is 1.2\n",
    "\n",
    "* [sklearn.metrics.mean_squared_error — scikit-learn 1.2.2 documentation](https://scikit-learn.org/1.2/modules/generated/sklearn.metrics.mean_squared_error.html#sklearn-metrics-mean-squared-error) \n",
    "\n",
    "This is available in 1.2"
   ]
  },
  {
   "cell_type": "code",
   "execution_count": null,
   "metadata": {},
   "outputs": [],
   "source": [
    "# Calculate RMSE for training and test set\n",
    "print(\n",
    "    'RMSE for training set ',\n",
    "    np.sqrt(mean_squared_error(\n",
    "        y_true=y_train,\n",
    "        y_pred=train_predicted)))\n",
    "\n",
    "print(\n",
    "    'RMSE for test set     ',\n",
    "    np.sqrt(mean_squared_error(\n",
    "        y_true=y_test,\n",
    "        y_pred=test_predicted)))"
   ]
  },
  {
   "cell_type": "markdown",
   "metadata": {},
   "source": [
    "## Cross validation score\n",
    "\n",
    "* [cross_val_score — scikit-learn 1.5.1\n",
    "  documentation](https://scikit-learn.org/stable/modules/generated/sklearn.model_selection.cross_val_score.html) \n"
   ]
  },
  {
   "cell_type": "markdown",
   "metadata": {},
   "source": [
    "Note the number of cross validations (in this case 4)"
   ]
  },
  {
   "cell_type": "code",
   "execution_count": null,
   "metadata": {},
   "outputs": [],
   "source": [
    "cross_val_score(reg, X, y, cv=4)"
   ]
  },
  {
   "cell_type": "markdown",
   "metadata": {},
   "source": [
    "These seem different. What scorer was used?\n",
    "\n",
    "* [cross_val_score — scikit-learn 1.5.1\n",
    "  documentation](https://scikit-learn.org/stable/modules/generated/sklearn.model_selection.cross_val_score.html) \n",
    "\n",
    "\n",
    "</br>\n",
    "<details>\n",
    "<summary>Solution</summary>\n",
    "\n",
    "\n",
    "Note the default scorer is the one used for the model (R^2 in this case).\n",
    "\n",
    "</details>\n",
    "</br>"
   ]
  },
  {
   "cell_type": "code",
   "execution_count": null,
   "metadata": {},
   "outputs": [],
   "source": [
    "# what other scorers are available?\n",
    "# from sklearn.metrics import get_scorer_names\n",
    "print(get_scorer_names())"
   ]
  },
  {
   "cell_type": "markdown",
   "metadata": {},
   "source": [
    "Note that adjusted R-squared is not listed. There's a side quest here if\n",
    "you would like to explore it.\n",
    "\n",
    "* [Adjusted R-squared\n",
    "  exercise](https://jovian.ai/edwardcashmere/sk-learn-regression-adjusted-r2)"
   ]
  },
  {
   "cell_type": "code",
   "execution_count": null,
   "metadata": {},
   "outputs": [],
   "source": [
    "# # Cross Validation score\n",
    "cvs = np.abs(cross_val_score(\n",
    "    reg, X, y, cv=4, scoring='neg_root_mean_squared_error'))\n",
    "\n",
    "print(f\"Cross Validation Results: {cvs}\")\n",
    "print(f\"Mean Cross Validation Results: {np.mean(cvs)}\")"
   ]
  },
  {
   "cell_type": "markdown",
   "metadata": {},
   "source": [
    "## Committing to a model\n",
    "\n",
    "Once you have committed to a model design, you'll typically train it with\n",
    "all the data you have available."
   ]
  },
  {
   "cell_type": "code",
   "execution_count": null,
   "metadata": {},
   "outputs": [],
   "source": [
    "final_model = LinearRegression()\n",
    "final_model.fit(X, y)"
   ]
  },
  {
   "cell_type": "markdown",
   "metadata": {},
   "source": [
    "## Preserving the model\n",
    "\n",
    "* [Model persistence | SKLearn User\n",
    "  Guide](https://scikit-learn.org/stable/model_persistence.html)\n",
    "* [pickle, joblib and\n",
    "  cloudpickle](https://scikit-learn.org/stable/model_persistence.html#pickle-joblib-and-cloudpickle) \n",
    "* [cloudpipe/cloudpickle: Extended pickling support for Python\n",
    "  objects](https://github.com/cloudpipe/cloudpickle)\n",
    "* [pickle — Python object serialization — Python 3.12.4\n",
    "  documentation](https://docs.python.org/3/library/pickle.html#module-pickle) \n",
    "* [Joblib: running Python functions as pipeline jobs — joblib 1.5.dev0\n",
    "  documentation](https://joblib.readthedocs.io/en/latest/index.html#module-joblib) \n",
    "\n",
    "\n",
    "A good practice is to use the library name as the file extension. This\n",
    "helps users know how to load the library.\n",
    "\n",
    "\n"
   ]
  },
  {
   "cell_type": "code",
   "execution_count": null,
   "metadata": {},
   "outputs": [],
   "source": [
    "# choose one. joblib tends to be more efficient with larger models\n",
    "import pickle\n",
    "import joblib\n",
    "import cloudpickle"
   ]
  },
  {
   "cell_type": "markdown",
   "metadata": {},
   "source": [
    "### Pickle"
   ]
  },
  {
   "cell_type": "code",
   "execution_count": null,
   "metadata": {},
   "outputs": [],
   "source": [
    "# Here you can replace pickle with joblib or cloudpickle\n",
    "with open(\"../models/final_model.pickle\", \"wb\") as f:\n",
    "\n",
    "    pickle.dump(final_model, f, protocol=5)"
   ]
  },
  {
   "cell_type": "code",
   "execution_count": null,
   "metadata": {},
   "outputs": [],
   "source": [
    "# Here you can replace pickle with joblib or cloudpickle\n",
    "with open(\"../models/final_model.pickle\", \"rb\") as f:\n",
    "\n",
    "    restored_model = pickle.load(f)"
   ]
  },
  {
   "cell_type": "code",
   "execution_count": null,
   "metadata": {},
   "outputs": [],
   "source": [
    "# Single observation\n",
    "X.iloc[[0]]"
   ]
  },
  {
   "cell_type": "code",
   "execution_count": null,
   "metadata": {},
   "outputs": [],
   "source": [
    "print(\n",
    "    final_model.predict(X.iloc[[0]]),\n",
    "    y.iloc[0])"
   ]
  },
  {
   "cell_type": "code",
   "execution_count": null,
   "metadata": {},
   "outputs": [],
   "source": [
    "restored_model.predict(X.iloc[[0]])"
   ]
  },
  {
   "cell_type": "markdown",
   "metadata": {},
   "source": [
    "### Joblib"
   ]
  },
  {
   "cell_type": "code",
   "execution_count": null,
   "metadata": {},
   "outputs": [],
   "source": [
    "# joblib\n",
    "with open(\"../models/final_model.joblib\", \"wb\") as f:\n",
    "\n",
    "    joblib.dump(final_model, f, protocol=5)"
   ]
  },
  {
   "cell_type": "code",
   "execution_count": null,
   "metadata": {},
   "outputs": [],
   "source": [
    "# Here you can replace pickle with joblib or cloudpickle\n",
    "with open(\"../models/final_model.joblib\", \"rb\") as f:\n",
    "\n",
    "    restored_joblib = joblib.load(f)"
   ]
  },
  {
   "cell_type": "code",
   "execution_count": null,
   "metadata": {},
   "outputs": [],
   "source": [
    "restored_joblib.predict(X.iloc[[0]])"
   ]
  },
  {
   "cell_type": "markdown",
   "metadata": {},
   "source": [
    "### Cloud pickle\n"
   ]
  },
  {
   "cell_type": "code",
   "execution_count": null,
   "metadata": {},
   "outputs": [],
   "source": [
    "with open(\"../models/final_model.cloudpickle\", \"wb\") as f:\n",
    "\n",
    "    cloudpickle.dump(final_model, f, protocol=5)"
   ]
  },
  {
   "cell_type": "code",
   "execution_count": null,
   "metadata": {},
   "outputs": [],
   "source": [
    "# Here you can replace pickle with joblib or cloudpickle\n",
    "with open(\"../models/final_model.cloudpickle\", \"rb\") as f:\n",
    "\n",
    "    restored_cloudpickle = cloudpickle.load(f)"
   ]
  },
  {
   "cell_type": "code",
   "execution_count": null,
   "metadata": {},
   "outputs": [],
   "source": [
    "restored_cloudpickle.predict(X.iloc[[0]])"
   ]
  },
  {
   "cell_type": "markdown",
   "metadata": {},
   "source": [
    "## Getting a single observation for later testing"
   ]
  },
  {
   "cell_type": "code",
   "execution_count": null,
   "metadata": {},
   "outputs": [],
   "source": [
    "X.columns"
   ]
  },
  {
   "cell_type": "code",
   "execution_count": null,
   "metadata": {},
   "outputs": [],
   "source": [
    "restored_model.feature_names_in_"
   ]
  },
  {
   "cell_type": "code",
   "execution_count": null,
   "metadata": {},
   "outputs": [],
   "source": [
    "X.iloc[[0]].values"
   ]
  }
 ],
 "metadata": {
  "kernelspec": {
   "display_name": "base_rise",
   "language": "python",
   "name": "python3"
  },
  "language_info": {
   "codemirror_mode": {
    "name": "ipython",
    "version": 3
   },
   "file_extension": ".py",
   "mimetype": "text/x-python",
   "name": "python",
   "nbconvert_exporter": "python",
   "pygments_lexer": "ipython3",
   "version": "3.11.7"
  }
 },
 "nbformat": 4,
 "nbformat_minor": 2
}
